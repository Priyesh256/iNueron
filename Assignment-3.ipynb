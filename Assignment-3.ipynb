{
 "cells": [
  {
   "cell_type": "code",
   "execution_count": 3,
   "metadata": {},
   "outputs": [
    {
     "data": {
      "text/plain": [
       "30"
      ]
     },
     "execution_count": 3,
     "metadata": {},
     "output_type": "execute_result"
    }
   ],
   "source": [
    "# Q1. Reduce function\n",
    "###MyReduce\n",
    "\n",
    "def prod(x, y):\n",
    "    return x + y\n",
    "\n",
    "def myReduceFunc(functionName, listIterable):\n",
    "    #typeList = type(listIterable)\n",
    "    product = listIterable[0]\n",
    "    for i in listIterable[1:]:\n",
    "        product = functionName(product, i)\n",
    "    return product\n",
    "\n",
    "listReduce = [2,4,6,8,10]\n",
    "tupleReduce = (2,4,6,8,10)\n",
    "#myReduceFunc(myFunc,listReduce)\n",
    "myReduceFunc(prod,tupleReduce)"
   ]
  },
  {
   "cell_type": "code",
   "execution_count": null,
   "metadata": {},
   "outputs": [],
   "source": [
    "#Q2. Filter Function\n",
    "##MyFilter: only will return object if true else no return\n",
    "\n",
    "listEven = [1,2,3,4,5,6,7,8,9,10]\n",
    "tupleEven= (1,2,3,4,5)\n",
    "\n",
    "def myFunc2(element):\n",
    "    return element%2 == 0\n",
    "\n",
    "def myFilter(functionName, iterableObj):\n",
    "    listFiltered = []\n",
    "    for x in iterableObj:\n",
    "        if functionName(x) == True:\n",
    "            listFiltered.append(x)\n",
    "            \n",
    "    return listFiltered\n",
    "            \n",
    "            \n",
    "myFilter(myFunc2,listEven)\n",
    "#myFilter(myFunc2,tupleEven)\n",
    "\n"
   ]
  },
  {
   "cell_type": "code",
   "execution_count": null,
   "metadata": {},
   "outputs": [],
   "source": [
    "##List Comprehension:\n",
    "\n",
    "#1.['x', 'xx', 'xxx', 'xxxx', 'y', 'yy', 'yyy', 'yyyy', 'z', 'zz', 'zzz', 'zzzz']\n",
    "\n",
    "input_list = ['x','y','z']\n",
    "result = [ item*num for item in input_list for num in range(1,5)]\n",
    "print(result)"
   ]
  },
  {
   "cell_type": "code",
   "execution_count": null,
   "metadata": {},
   "outputs": [],
   "source": [
    "#2.['x', 'y', 'z', 'xx', 'yy', 'zz', 'xxx', 'yyy', 'zzz', 'xxxx', 'yyyy', 'zzzz']\n",
    "input_list2 = ['x','y','z']\n",
    "result2 = [ i*digit for digit in range(1,5) for i in input_list2]\n",
    "print(result2)"
   ]
  },
  {
   "cell_type": "code",
   "execution_count": null,
   "metadata": {},
   "outputs": [],
   "source": [
    "#3. [2, 3, 4, 3, 4, 5, 4, 5, 6]\n",
    "list1  = [2,3,4]\n",
    "resultNum1 = [ item+num for num in range(0,3) for item in list1]\n",
    "print(resultNum1)"
   ]
  },
  {
   "cell_type": "code",
   "execution_count": null,
   "metadata": {},
   "outputs": [],
   "source": [
    "#4. [[2, 3, 4, 5], [3, 4, 5, 6], [4, 5, 6, 7]]\n",
    "\n",
    "resultNum2 = [[num+item for item in [2,3,4,5]] for num in range(0,3)]\n",
    "print(resultNum2)"
   ]
  },
  {
   "cell_type": "code",
   "execution_count": null,
   "metadata": {},
   "outputs": [],
   "source": [
    "#5.[(1, 1), (2, 1), (3, 1), (1, 2), (2, 2), (3, 2), (1, 3), (2, 3), (3, 3)]\n",
    "list3 = [1,2,3]\n",
    "result3 = [ (item0,item1) for item1 in list3 for item0 in list3]\n",
    "print(result3)"
   ]
  },
  {
   "cell_type": "code",
   "execution_count": null,
   "metadata": {},
   "outputs": [],
   "source": []
  }
 ],
 "metadata": {
  "kernelspec": {
   "display_name": "Python 3",
   "language": "python",
   "name": "python3"
  },
  "language_info": {
   "codemirror_mode": {
    "name": "ipython",
    "version": 3
   },
   "file_extension": ".py",
   "mimetype": "text/x-python",
   "name": "python",
   "nbconvert_exporter": "python",
   "pygments_lexer": "ipython3",
   "version": "3.8.5"
  }
 },
 "nbformat": 4,
 "nbformat_minor": 4
}
