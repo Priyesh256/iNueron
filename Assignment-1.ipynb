{
 "cells": [
  {
   "cell_type": "code",
   "execution_count": null,
   "metadata": {},
   "outputs": [],
   "source": [
    "#number divisble by 7 and not a multiple of 5 between two nos\n",
    "startNum = 2000\n",
    "endNum = 3200\n",
    "\n",
    "num = startNum\n",
    "while num <= 3200:\n",
    "    if(num%7 == 0 and num%5 != 0):\n",
    "        print(num, end=',')\n",
    "    num = num+1"
   ]
  },
  {
   "cell_type": "code",
   "execution_count": null,
   "metadata": {},
   "outputs": [],
   "source": [
    "##Question 2 - Get Names\n",
    "fname = input(\"Enter first name:\")\n",
    "lname = input(\"Enter last name:\")\n",
    "print(\"{} {}\".format(lname[::-1],fname[::-1]))"
   ]
  },
  {
   "cell_type": "code",
   "execution_count": null,
   "metadata": {},
   "outputs": [],
   "source": [
    "##To calculate volume of a sphere v= 4/3*pi*r3\n",
    "dia = int(input(\"Enter diameter of a sphere\"))\n",
    "pi_constant = 3.14\n",
    "volumeSphere = (4/3)*pi_constant* (dia/2)**3\n",
    "print(\"Volume of sphere with diameter {} is {}\".format(dia,round(volumeSphere,2)))"
   ]
  },
  {
   "cell_type": "code",
   "execution_count": null,
   "metadata": {},
   "outputs": [],
   "source": []
  }
 ],
 "metadata": {
  "kernelspec": {
   "display_name": "Python 3",
   "language": "python",
   "name": "python3"
  },
  "language_info": {
   "codemirror_mode": {
    "name": "ipython",
    "version": 3
   },
   "file_extension": ".py",
   "mimetype": "text/x-python",
   "name": "python",
   "nbconvert_exporter": "python",
   "pygments_lexer": "ipython3",
   "version": "3.8.5"
  }
 },
 "nbformat": 4,
 "nbformat_minor": 4
}
