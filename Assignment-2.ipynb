{
 "cells": [
  {
   "cell_type": "code",
   "execution_count": null,
   "metadata": {},
   "outputs": [],
   "source": [
    "#Star Pattern. Enter ODD no of rows you want.\n",
    "\n",
    "flagChange = 0\n",
    "rows = int(input(\"Enter no of rows :\"))\n",
    "cols = rows//2 +1\n",
    "for x in range(rows):\n",
    "    for y in range(cols):\n",
    "        if x >=y and flagChange == 0:\n",
    "            print(\"*\" , end=\" \")\n",
    "        elif x+y < rows and flagChange == 1:\n",
    "            print(\"*\", end= \" \")\n",
    "    print(\"\")\n",
    "    if x == 4:\n",
    "        flagChange = 1"
   ]
  },
  {
   "cell_type": "code",
   "execution_count": null,
   "metadata": {},
   "outputs": [],
   "source": [
    "#Reversing a string:\n",
    "str1=input(\"Enter word\")\n",
    "revStr1 = str1[::-1]\n",
    "revStr1\n"
   ]
  },
  {
   "cell_type": "code",
   "execution_count": null,
   "metadata": {},
   "outputs": [],
   "source": []
  }
 ],
 "metadata": {
  "kernelspec": {
   "display_name": "Python 3",
   "language": "python",
   "name": "python3"
  },
  "language_info": {
   "codemirror_mode": {
    "name": "ipython",
    "version": 3
   },
   "file_extension": ".py",
   "mimetype": "text/x-python",
   "name": "python",
   "nbconvert_exporter": "python",
   "pygments_lexer": "ipython3",
   "version": "3.8.5"
  }
 },
 "nbformat": 4,
 "nbformat_minor": 4
}
